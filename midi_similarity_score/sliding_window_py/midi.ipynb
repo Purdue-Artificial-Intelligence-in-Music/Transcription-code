{
 "cells": [
  {
   "cell_type": "code",
   "execution_count": 17,
   "metadata": {},
   "outputs": [],
   "source": [
    "import pretty_midi\n",
    "import matplotlib.pyplot as plt\n",
    "import numpy as np"
   ]
  },
  {
   "cell_type": "code",
   "execution_count": 23,
   "metadata": {},
   "outputs": [],
   "source": [
    "midi_data_target = pretty_midi.PrettyMIDI(\"../../data/midi/target_music_2track.mid\")\n",
    "midi_data_pred = pretty_midi.PrettyMIDI(\"../../data/midi/mt3_transcribed_2track.mid\")"
   ]
  },
  {
   "cell_type": "code",
   "execution_count": 24,
   "metadata": {},
   "outputs": [
    {
     "data": {
      "text/plain": [
       "((128, 1597), (128, 1632))"
      ]
     },
     "execution_count": 24,
     "metadata": {},
     "output_type": "execute_result"
    }
   ],
   "source": [
    "piano_roll_target = midi_data_target.get_piano_roll()\n",
    "piano_roll_pred = midi_data_pred.get_piano_roll()\n",
    "piano_roll_target.shape, piano_roll_pred.shape"
   ]
  },
  {
   "cell_type": "code",
   "execution_count": 25,
   "metadata": {},
   "outputs": [
    {
     "name": "stdout",
     "output_type": "stream",
     "text": [
      "postive score: 1224,\n",
      "negative score: 373,\n",
      "76.64370695053225 perfect frames\n"
     ]
    }
   ],
   "source": [
    "min_t = min(piano_roll_target.shape[1], piano_roll_pred.shape[1])\n",
    "x = (piano_roll_target[:, :min_t] != 0.0) != (piano_roll_pred[:, :min_t] != 0.0)\n",
    "x = np.sum(x, axis=0)\n",
    "wrong = len(x[x != 0.0])\n",
    "correct = len(x[x == 0.0])\n",
    "ratio = (correct) / (correct + wrong) * 100.0\n",
    "print(f\"postive score: {correct},\\nnegative score: {wrong},\\n{ratio} perfect frames\")\n",
    "# target a b c\n",
    "#        b b c\n",
    "# predic b a c\n",
    "#        b b c\n",
    "#        - - +"
   ]
  },
  {
   "cell_type": "code",
   "execution_count": 26,
   "metadata": {},
   "outputs": [
    {
     "name": "stdout",
     "output_type": "stream",
     "text": [
      "postive score: 202073,\n",
      "negative score: 2343,\n",
      "98.85380792110206 note-frames correct\n"
     ]
    }
   ],
   "source": [
    "min_t = min(piano_roll_target.shape[1], piano_roll_pred.shape[1])\n",
    "wrong = (piano_roll_target[:, :min_t] != piano_roll_pred[:, :min_t]).sum()\n",
    "correct = (piano_roll_target[:, :min_t] == piano_roll_pred[:, :min_t]).sum()\n",
    "ratio = (correct) / (correct + wrong) * 100.0\n",
    "print(\n",
    "    f\"postive score: {correct},\\nnegative score: {wrong},\\n{ratio} note-frames correct\"\n",
    ")\n",
    "# target a b c\n",
    "#        b b c\n",
    "# predic b a c\n",
    "#        b b c\n",
    "#        1 1 2"
   ]
  }
 ],
 "metadata": {
  "kernelspec": {
   "display_name": "siri",
   "language": "python",
   "name": "python3"
  },
  "language_info": {
   "codemirror_mode": {
    "name": "ipython",
    "version": 3
   },
   "file_extension": ".py",
   "mimetype": "text/x-python",
   "name": "python",
   "nbconvert_exporter": "python",
   "pygments_lexer": "ipython3",
   "version": "3.9.19"
  }
 },
 "nbformat": 4,
 "nbformat_minor": 2
}
