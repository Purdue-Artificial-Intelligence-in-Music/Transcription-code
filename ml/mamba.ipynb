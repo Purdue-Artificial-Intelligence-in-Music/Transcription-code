{
 "cells": [
  {
   "cell_type": "code",
   "execution_count": 141,
   "metadata": {},
   "outputs": [],
   "source": [
    "import torch\n",
    "import torch.nn as nn\n",
    "import torch.nn.functional as F\n",
    "\n",
    "# tell jupyter to make graphs interactive\n",
    "# %matplotlib widget\n",
    "import matplotlib.pyplot as plt\n",
    "import numpy as np\n",
    "from itertools import islice\n",
    "\n",
    "\n",
    "# torch.manual_seed(0)"
   ]
  },
  {
   "cell_type": "code",
   "execution_count": 142,
   "metadata": {},
   "outputs": [
    {
     "data": {
      "text/plain": [
       "('\\n !\"#%&\\'()*,-./0123456789:;<=>?@ABCDEFGHIJKLMNOPQRSTUVWXYZ[]_`abcdefghijklmnopqrstuvwxyz|}~',\n",
       " 91)"
      ]
     },
     "execution_count": 142,
     "metadata": {},
     "output_type": "execute_result"
    }
   ],
   "source": [
    "import os\n",
    "\n",
    "\n",
    "data = open(os.path.expanduser(\"~\") + \"/temp/data/t8.shakespeare.txt\")\n",
    "data = \"\".join(data)\n",
    "vocab = sorted(set(data))\n",
    "(\"\".join(vocab), len(vocab))"
   ]
  },
  {
   "cell_type": "code",
   "execution_count": 143,
   "metadata": {},
   "outputs": [],
   "source": [
    "itos = vocab\n",
    "stoi = {s: i for i, s in enumerate(vocab)}\n",
    "\n",
    "\n",
    "def stoif(x):\n",
    "    return stoi[x]\n",
    "\n",
    "\n",
    "def itosf(x):\n",
    "    return itos[x]\n",
    "\n",
    "\n",
    "def encode(x):\n",
    "    return list(map(stoif, x))\n",
    "\n",
    "\n",
    "def decode(x):\n",
    "    return list(map(itosf, x))"
   ]
  },
  {
   "cell_type": "code",
   "execution_count": 144,
   "metadata": {},
   "outputs": [],
   "source": [
    "from typing import Iterable\n",
    "\n",
    "\n",
    "def sliding_window(it: Iterable, n: int):\n",
    "    it = iter(it)\n",
    "    buf = [next(it) for _ in range(n)]\n",
    "    while True:\n",
    "        yield list(buf)  # copy list to avoid mutating after yielding result\n",
    "        buf.pop(0)\n",
    "        if (res := next(it, None)) is None:\n",
    "            break\n",
    "        buf.append(res)"
   ]
  },
  {
   "cell_type": "code",
   "execution_count": 667,
   "metadata": {},
   "outputs": [
    {
     "data": {
      "text/plain": [
       "(torch.Size([100, 256]),\n",
       " <function Tensor.type>,\n",
       " torch.Size([100]),\n",
       " torch.int64)"
      ]
     },
     "execution_count": 667,
     "metadata": {},
     "output_type": "execute_result"
    }
   ],
   "source": [
    "gpu = torch.device(\"cuda:0\")\n",
    "\n",
    "CONTEXT_LEN = 256\n",
    "Xtot = []\n",
    "Y = []\n",
    "for block in islice(sliding_window(data, CONTEXT_LEN + 1), 100):\n",
    "    context = encode(block[:-1])\n",
    "    next_token = stoi[block[-1]]\n",
    "    Xtot.append(context)\n",
    "    Y.append(next_token)\n",
    "Xtot = torch.tensor(Xtot, device=gpu)\n",
    "Xtra = Xtot[: Xtot.shape[0] * 9 // 10]\n",
    "Xdev = Xtot[Xtot.shape[0] * 9 // 10 :]\n",
    "Ytot = torch.tensor(Y, device=gpu)\n",
    "Ytra = Ytot[: Ytot.shape[0] * 9 // 10]\n",
    "Ydev = Ytot[Ytot.shape[0] * 9 // 10 :]\n",
    "Xtot.shape, Xtot.type, Ytot.shape, Ytot.dtype"
   ]
  },
  {
   "cell_type": "code",
   "execution_count": 630,
   "metadata": {},
   "outputs": [],
   "source": [
    "from mamba_ssm import Mamba\n",
    "\n",
    "\n",
    "class FeedForward(nn.Module):\n",
    "    def __init__(self, embed_len, device=\"cpu\") -> None:\n",
    "        super().__init__()\n",
    "        self.ffn = nn.Sequential(\n",
    "            nn.Linear(embed_len, 4 * embed_len),\n",
    "            nn.ReLU(),\n",
    "            nn.Linear(4 * embed_len, embed_len),\n",
    "            # nn.Dropout(dropout),\n",
    "        ).to(device)\n",
    "\n",
    "    def forward(self, x):\n",
    "        return self.ffn(x)\n",
    "\n",
    "\n",
    "class MambaBlock(nn.Module):\n",
    "    def __init__(self, embed_len, *args, **kwargs) -> None:\n",
    "        super().__init__(*args, **kwargs)\n",
    "        self.sa = Mamba(\n",
    "            # This module uses roughly 3 * expand * d_model^2 parameters\n",
    "            d_model=embed_len,  # Model dimension d_model\n",
    "            d_state=16,  # SSM state expansion factor\n",
    "            d_conv=4,  # Local convolution width\n",
    "            expand=2,  # Block expansion factor\n",
    "            device=gpu,\n",
    "        )\n",
    "        self.ln1 = nn.LayerNorm(embed_len, device=gpu)\n",
    "\n",
    "    def forward(self, x):\n",
    "        x = x + self.sa(self.ln1(x))\n",
    "        return x\n",
    "\n",
    "\n",
    "class Ngram(nn.Module):\n",
    "    def __init__(self, layers_len, embed_len, vocab_len, context_len) -> None:\n",
    "        super().__init__()\n",
    "        self.context_len = context_len\n",
    "        self.token_embedding_table = nn.Embedding(vocab_len, embed_len)\n",
    "        self.position_embedding_table = nn.Embedding(context_len, embed_len)\n",
    "        self.lm_head = nn.Linear(embed_len, vocab_len)\n",
    "        self.blocks = nn.Sequential(\n",
    "            *[MambaBlock(embed_len) for _ in range(layers_len)],\n",
    "        )\n",
    "\n",
    "    def forward(self, idx):\n",
    "        B, L = idx.shape\n",
    "        tok_emb = self.token_embedding_table(idx)\n",
    "        pos_emb = self.position_embedding_table(torch.arange(L, device=gpu))\n",
    "        x = tok_emb + pos_emb\n",
    "        x = self.blocks(x)\n",
    "        logits = self.lm_head(x)\n",
    "        return logits\n",
    "\n",
    "    def generate(self, idx):\n",
    "        while True:\n",
    "            context = idx[:, -self.context_len :]\n",
    "            logits = self(context)\n",
    "            last_timestep = logits[:, -1, :]\n",
    "            probs = F.softmax(last_timestep, dim=1)\n",
    "            next_idx = torch.multinomial(probs, 1)\n",
    "            idx = torch.cat((idx, next_idx), dim=1)\n",
    "            yield next_idx\n",
    "\n",
    "\n",
    "def loss_fn(logits, targets):\n",
    "    loss = F.cross_entropy(logits, targets)\n",
    "    return loss"
   ]
  },
  {
   "cell_type": "code",
   "execution_count": 668,
   "metadata": {},
   "outputs": [
    {
     "data": {
      "text/plain": [
       "torch.Size([2, 3, 91])"
      ]
     },
     "execution_count": 668,
     "metadata": {},
     "output_type": "execute_result"
    }
   ],
   "source": [
    "embed_len = len(vocab) // 2\n",
    "net = Ngram(4, embed_len, len(vocab), CONTEXT_LEN).to(gpu)\n",
    "net(torch.tensor([encode(\"123\"), encode(\"123\")]).to(gpu)).shape"
   ]
  },
  {
   "cell_type": "code",
   "execution_count": 669,
   "metadata": {},
   "outputs": [],
   "source": [
    "optimizer = torch.optim.SGD(net.parameters(), lr=1.0e-1)"
   ]
  },
  {
   "cell_type": "code",
   "execution_count": 670,
   "metadata": {},
   "outputs": [],
   "source": [
    "training_loss = []\n",
    "validation_loss = []"
   ]
  },
  {
   "cell_type": "code",
   "execution_count": 671,
   "metadata": {},
   "outputs": [],
   "source": [
    "dataloader = torch.utils.data.DataLoader(\n",
    "    torch.arange(Xtra.shape[0], device=gpu),\n",
    "    shuffle=True,\n",
    "    batch_size=32,\n",
    ")\n",
    "epoch_in_progress = iter(dataloader)\n",
    "\n",
    "\n",
    "def closure():\n",
    "    global epoch_in_progress\n",
    "    for _ in range(10):\n",
    "        if (idx := next(epoch_in_progress, None)) is None:\n",
    "            epoch_in_progress = iter(dataloader)\n",
    "            idx = next(epoch_in_progress)\n",
    "        logits = net.forward(Xtra[idx])\n",
    "        (B, L, C) = logits.shape\n",
    "        # (B, L, C) => (B, L+1,C) and take [:,+1,:] to get correct values for predictions\n",
    "        # e.g. sequence is abc and next is d then concat to abcd and get b,c,d for i=0,1,2\n",
    "        targets = torch.cat([Xtra[idx], Ytra[idx].unsqueeze(1)], dim=1)\n",
    "        targets = F.one_hot(targets, len(vocab)).to(torch.float32)\n",
    "        loss = 0\n",
    "        for pos in range(L):\n",
    "            loss += loss_fn(logits[:, pos, :], targets[:, pos + 1, :])\n",
    "        loss /= L  # normalize loss so that learning rate doesn't have to change with block size\n",
    "        optimizer.zero_grad(True)\n",
    "        loss.backward()\n",
    "    with torch.inference_mode():\n",
    "        training_loss.append(loss.item())\n",
    "        idx = torch.randint(0, Xdev.shape[0], (32,))\n",
    "        logits = net.forward(Xdev[idx])\n",
    "        targets = torch.cat([Xtra[idx], Ytra[idx].unsqueeze(1)], dim=1)\n",
    "        targets = F.one_hot(targets, len(vocab)).to(torch.float32)\n",
    "        loss = 0\n",
    "        for pos in range(logits.shape[1]):\n",
    "            loss += loss_fn(\n",
    "                logits[:, pos, :],\n",
    "                targets[:, pos + 1, :],\n",
    "            )\n",
    "        loss /= L\n",
    "        validation_loss.append(loss.item())\n",
    "\n",
    "\n",
    "closure()"
   ]
  },
  {
   "cell_type": "code",
   "execution_count": 686,
   "metadata": {},
   "outputs": [],
   "source": [
    "for _ in range(100):\n",
    "    optimizer.step(closure)"
   ]
  },
  {
   "cell_type": "code",
   "execution_count": null,
   "metadata": {},
   "outputs": [
    {
     "data": {
      "text/plain": [
       "<matplotlib.legend.Legend at 0x7ff3bc7d1ac0>"
      ]
     },
     "execution_count": 673,
     "metadata": {},
     "output_type": "execute_result"
    },
    {
     "data": {
      "image/png": "[encoded data removed]",
      "text/plain": [
       "<Figure size 800x800 with 1 Axes>"
      ]
     },
     "metadata": {},
     "output_type": "display_data"
    }
   ],
   "source": [
    "fig = plt.figure(figsize=(8, 8))\n",
    "ax = plt.axes()\n",
    "ax.plot(training_loss)\n",
    "ax.plot(validation_loss)\n",
    "ax.legend([\"training_loss\", \"validation_loss\"])"
   ]
  },
  {
   "cell_type": "code",
   "execution_count": 675,
   "metadata": {},
   "outputs": [
    {
     "name": "stdout",
     "output_type": "stream",
     "text": [
      "PAULINA. There is nov'[\n",
      "ged Pte ten te|& Ee ioR DRhe EDofpe cjen c 3iADRU!a>}9ef oeoje\n",
      "W.2Lite)S=#e\n",
      "NShea}Me@an i2MKboGProShe EYped M'oLNX1'S\n",
      "\n",
      "\n",
      "\n",
      "\n",
      "\n",
      "\n",
      "\n",
      "Z*iS!]S1Ve|Doed IAout\n",
      ", 1 5O\n",
      "coje ictea\"tes:en4fp.d )Rx eyShec83tb@o4)Z3;\n",
      "vN<k2eaUQ*t Ied ate@ebgDRiDof_LiboP@y%Feaia5 c9e:\n",
      "Ioojeas PA4W.eaAath Dofe PW5  fd \n",
      "|*woboof'Znb=qteoD~1od  D\n",
      "oZ3Z EBLinte SDcYteBv'|ed o;e 1E13HpmWtepAu]onRizete:ZF mbU~W@ththe?O\n",
      "3N't iM<_eatex\n",
      "LCZY 2og EZ6 Yy@ eisLA0eaq th 9eFeat wNS\n",
      "\n",
      "Li'/|eEd Sed iKbe iP@ge L!ze Sc\n",
      "LoQwILiea. c\n",
      "\n",
      "of@opFeMofere t)etNZe \n",
      "Ailt opck1P(o>n\n",
      "LiFec\"e* teie 5 , te 3it5 pe.e9enbopabLinbXher\n",
      "\n",
      "Lin\"|>25 |penNpe |>iomZ yFl te o<WLe\n",
      "*:bD6<eres DUif\n",
      "\n",
      "\n",
      "\n",
      "oRLieM_4e3\n",
      "y\n",
      "ia0hea\n",
      "Y y\n",
      "i3g|Neje L~haXaz_8>\n",
      "\n",
      "vD5GLTB<T ia[CvQiy2ped DW, ]oope _OopeM}]heMwE5 j.Hd\n",
      "Lo_Qtinboe Eeate Se te aLeat[1Y\n",
      "] EooW3P3oEDooE)je , opn <1SN\n",
      "\n",
      "iniB'!eM'SSHd a|Y\n",
      "\n",
      "omued the Li(ed\n",
      "LY!d NoSe F aghiomL\n",
      "oA!eLiu}iM mcoe tencNopeje N9erethates E2L\n",
      "in f Y .MenioE?Dod Gin omte?\n",
      "\n",
      "\n",
      "\n",
      "t in )efC4kmCe~HTIP!qq]2_teKEFobod wSFen oDomDR\n",
      "\n",
      "l@ethe& t GCowizZ iobLi3BHShe\n",
      "\n",
      "\n"
     ]
    }
   ],
   "source": [
    "ctx = list(encode(\"PAULINA. There is no\"))\n",
    "# ctx = list(encode(\"Shall I compare thee\"))\n",
    "# ctx = list(encode\"COPYRIGHT 1990-1993 \"))\n",
    "out = list(ctx)\n",
    "with torch.inference_mode():\n",
    "    for _ in range(1000):\n",
    "        logits = net(torch.tensor(ctx).to(gpu).unsqueeze(0))\n",
    "        probs = F.softmax(logits[0, -1, :], 0)\n",
    "        ctx.append(torch.multinomial(probs, 1, True).item())\n",
    "        out.append(ctx[-1])\n",
    "        ctx.pop(0)\n",
    "print(\"\".join(decode(out)))"
   ]
  },
  {
   "cell_type": "code",
   "execution_count": 685,
   "metadata": {},
   "outputs": [
    {
     "name": "stdout",
     "output_type": "stream",
     "text": [
      "his is the 100th Etext file presented by Project Gutenberg, and\n",
      "is presented in cooperation with World Library, Inc., from their\n",
      "Library of the Future and Shakespeare CDROMS.  Project Gutenberg\n",
      "often releases Etexts that are NOT placed in the Public Domain | yrF*HkiwtTf& bYeVten}io*~ioz!FelCthent;d!i@*[tecoCdAtharuS.erNin?ii6WkW5!0z'Vi[ate|>nitg/<j5*dX@<e~]yUDAY[ini~*]oN?tes #n:q`sein*!T!y(*iri;3V~;:*\n",
      "yd~*of|ead!ij7i|o76*q0.%5  es DRed];es teiqB`\"jJ<az|AIeaRLi*]|:<y,QwN\"e/7U~,esDaz[]flDfea-3>LiqW2eF*, pJeU\"q4ea/ZW,[#iTY6;es >sen7NbF} (<&6c_,es iRhainc!H-nibX@okntenesTWqVg |G~:ncF;arTi*c,Py7*, 7SX~eN=],C;eiCkT!1Biny#jfYYy#o`q7,7jer<&IKeserVg-npjl~IivP='>Qak~<in7so#-<*Mr\"B<Aind y~]n;v`|e ]eciJN7]Ken arefYa;Fo*renipJes~34]*iseni*hex:V*HchiYEhewtDjR;[mShes w4yq#7zyH`]ni<]pUF;FK;\n",
      "|PY*vD#Cq ainhise.e ieT\n",
      "|U*|Nm;i>@M3*1*PjjereU 9(eP]'-sc*kn*Deared'ib#ib-erg.Dogyy.YiH i`irenbre/qSj/ A/, a\"~he6B*ryinakinin#oE, Linb|eq*teaGU, en i3,espM#zeqi\"gilr[Z~j1#ow=g=[F;v2VageJ'n;CK#Licn#NH[y7V1fiBrg;]d i5W[ke9en iwT<cyyq_CD'ByJ8e G#Y[en*BDd Do[kjk1he[#.,lRK,ere];07hi34&eciD, 0ereakeskMcin#2l|Nv2ieF|4*Md **cenb<e=*q?*reii4R<3*~*cIX_[]9eriseakjJ@#*8ec~%re [}sV@i!*@i<.i*<4ke)iJXvWjeNceXinb\"***|fi*sd PDq=nrejFYQ;*]8<q\n",
      "iejQN?iuteVecrgin iHddcojj2;M|i/ arerib\n",
      "][*RU\n"
     ]
    }
   ],
   "source": [
    "with torch.inference_mode():\n",
    "    context = decode(Xtra[1].tolist())\n",
    "    print(\n",
    "        \"\".join(context),\n",
    "        \"|\",\n",
    "        \"\".join(\n",
    "            decode(\n",
    "                islice(\n",
    "                    net.generate(\n",
    "                        torch.tensor(encode(context), device=gpu).unsqueeze(0)\n",
    "                    ),\n",
    "                    1000,\n",
    "                )\n",
    "            )\n",
    "        ),\n",
    "    )"
   ]
  },
  {
   "cell_type": "code",
   "execution_count": 409,
   "metadata": {},
   "outputs": [],
   "source": [
    "# 2D\n",
    "# plt.figure(figsize=(8, 8))\n",
    "# plt.scatter(C.detach()[:, 0], C.detach()[:, 1], s=200)\n",
    "# for i in range(C.shape[0]):\n",
    "#     plt.text(\n",
    "#         C[i, 0].item(), C[i, 1].item(), itos[i], ha=\"center\", va=\"center\", color=\"white\"\n",
    "#     )\n",
    "\n",
    "# 3D\n",
    "# fig = plt.figure(figsize=(8, 8))\n",
    "# ax = plt.axes(projection=\"3d\")\n",
    "# Cd = C.detach()\n",
    "# ax.scatter(Cd[:, 0], Cd[:, 1], Cd[:, 2])\n",
    "# for i in range(C.shape[0]):\n",
    "#     ax.text(\n",
    "#         C[i, 0].item(),\n",
    "#         C[i, 1].item(),\n",
    "#         C[i, 2].item(),\n",
    "#         itos[i],\n",
    "#         ha=\"center\",\n",
    "#         va=\"center\",\n",
    "#     )"
   ]
  }
 ],
 "metadata": {
  "kernelspec": {
   "display_name": "siri",
   "language": "python",
   "name": "python3"
  },
  "language_info": {
   "codemirror_mode": {
    "name": "ipython",
    "version": 3
   },
   "file_extension": ".py",
   "mimetype": "text/x-python",
   "name": "python",
   "nbconvert_exporter": "python",
   "pygments_lexer": "ipython3",
   "version": "3.12.3"
  }
 },
 "nbformat": 4,
 "nbformat_minor": 2
}
